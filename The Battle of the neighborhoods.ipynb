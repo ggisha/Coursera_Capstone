{
    "nbformat_minor": 1, 
    "cells": [
        {
            "source": "## 1. Description of the Problem\nLondon is a popular destination for higher education where diverse students from all around the world gather to study.\n\nAccording to the data published by the Higher Education Statistical Agency (HESA), in the academic year 2016-2017 London welcomed 112,200 international students to its higher education institutions, which make up 29 percent of students at higher education institutions.\n\nOne of the big concerns for international students when moving to a new city would be finding an accommodation. Student halls are the most reliable means of housing for students, but it is not easy to secure a place in one as they are in high demand. Therefore in this project, I intend to explore different neighborhoods of London and find the best area to build a new student hall for international students in London to solve this persistent problem and to find a new business opportunity.This research is expected to benefit real-estate investors looking for a profitable location or international students looking for a place to live in London.\n\nFrom the student perspective, a lot of factors come into play when finding the best accommodation, including location and rent. Howerver, this study will focus only on the safety and the general atmosphere of the neighborhood. Distance to universities are also an important factor in choosing a student hall, but as student halls accept students from different universities, it will be disregarded in this project.\n\n## 2. Data Acquisition and Preprocessing\nIn this project, I will be using the following datasets to help solve my problem - London Recorded Crime, List of London Boroughs, and Foursquare API.\nLet's have a look at them.\n\na. London Recorded Crime : Geographic Breakdown\n\nLondon crime records by boroughs in the last 24 months\nsource: London Datastore\nurl: https://data.london.gov.uk/dataset/recorded_crime_summary", 
            "cell_type": "markdown", 
            "metadata": {
                "collapsed": true
            }
        }, 
        {
            "source": "import pandas as pd\nimport numpy as np\nimport types\nfrom botocore.client import Config\nimport ibm_boto3\n\ndef __iter__(self): return 0\n\n# @hidden_cell\n# The following code accesses a file in your IBM Cloud Object Storage. It includes your credentials.\n# You might want to remove those credentials before you share your notebook.\nclient_0686d600596c4bc6a16cbc7ba7d0bfcf = ibm_boto3.client(service_name='s3',\n    ibm_api_key_id='PLeVJcn3hx6Vn3by7ULdERCui7aakrfuOFIUYJIQlPxP',\n    ibm_auth_endpoint=\"https://iam.ng.bluemix.net/oidc/token\",\n    config=Config(signature_version='oauth'),\n    endpoint_url='https://s3-api.us-geo.objectstorage.service.networklayer.com')\n\nbody = client_0686d600596c4bc6a16cbc7ba7d0bfcf.get_object(Bucket='thebattleoftheneighborhoods-donotdelete-pr-vnx4j7hzok8o6r',Key='MPS Borough Level Crime (most recent 24 months).csv')['Body']\n# add missing __iter__ method, so pandas accepts body as file-like object\nif not hasattr(body, \"__iter__\"): body.__iter__ = types.MethodType( __iter__, body )\n\ncrime = pd.read_csv(body)\ncrime.head()\n\n", 
            "cell_type": "code", 
            "metadata": {}, 
            "outputs": [
                {
                    "output_type": "execute_result", 
                    "data": {
                        "text/html": "<div>\n<style scoped>\n    .dataframe tbody tr th:only-of-type {\n        vertical-align: middle;\n    }\n\n    .dataframe tbody tr th {\n        vertical-align: top;\n    }\n\n    .dataframe thead th {\n        text-align: right;\n    }\n</style>\n<table border=\"1\" class=\"dataframe\">\n  <thead>\n    <tr style=\"text-align: right;\">\n      <th></th>\n      <th>MajorText</th>\n      <th>MinorText</th>\n      <th>LookUp_BoroughName</th>\n      <th>201707</th>\n      <th>201708</th>\n      <th>201709</th>\n      <th>201710</th>\n      <th>201711</th>\n      <th>201712</th>\n      <th>201801</th>\n      <th>...</th>\n      <th>201809</th>\n      <th>201810</th>\n      <th>201811</th>\n      <th>201812</th>\n      <th>201901</th>\n      <th>201902</th>\n      <th>201903</th>\n      <th>201904</th>\n      <th>201905</th>\n      <th>201906</th>\n    </tr>\n  </thead>\n  <tbody>\n    <tr>\n      <th>0</th>\n      <td>Arson and Criminal Damage</td>\n      <td>Arson</td>\n      <td>Barking and Dagenham</td>\n      <td>2</td>\n      <td>5</td>\n      <td>8</td>\n      <td>7</td>\n      <td>7</td>\n      <td>4</td>\n      <td>2</td>\n      <td>...</td>\n      <td>3</td>\n      <td>8</td>\n      <td>5</td>\n      <td>1</td>\n      <td>5</td>\n      <td>2</td>\n      <td>5</td>\n      <td>5</td>\n      <td>11</td>\n      <td>3</td>\n    </tr>\n    <tr>\n      <th>1</th>\n      <td>Arson and Criminal Damage</td>\n      <td>Criminal Damage</td>\n      <td>Barking and Dagenham</td>\n      <td>143</td>\n      <td>169</td>\n      <td>134</td>\n      <td>132</td>\n      <td>108</td>\n      <td>119</td>\n      <td>135</td>\n      <td>...</td>\n      <td>107</td>\n      <td>131</td>\n      <td>105</td>\n      <td>88</td>\n      <td>97</td>\n      <td>127</td>\n      <td>137</td>\n      <td>130</td>\n      <td>139</td>\n      <td>108</td>\n    </tr>\n    <tr>\n      <th>2</th>\n      <td>Burglary</td>\n      <td>Burglary - Business and Community</td>\n      <td>Barking and Dagenham</td>\n      <td>42</td>\n      <td>30</td>\n      <td>25</td>\n      <td>23</td>\n      <td>27</td>\n      <td>21</td>\n      <td>38</td>\n      <td>...</td>\n      <td>33</td>\n      <td>32</td>\n      <td>39</td>\n      <td>33</td>\n      <td>44</td>\n      <td>24</td>\n      <td>29</td>\n      <td>27</td>\n      <td>22</td>\n      <td>27</td>\n    </tr>\n    <tr>\n      <th>3</th>\n      <td>Burglary</td>\n      <td>Burglary - Residential</td>\n      <td>Barking and Dagenham</td>\n      <td>95</td>\n      <td>83</td>\n      <td>81</td>\n      <td>122</td>\n      <td>88</td>\n      <td>124</td>\n      <td>143</td>\n      <td>...</td>\n      <td>99</td>\n      <td>94</td>\n      <td>106</td>\n      <td>164</td>\n      <td>114</td>\n      <td>107</td>\n      <td>99</td>\n      <td>96</td>\n      <td>114</td>\n      <td>96</td>\n    </tr>\n    <tr>\n      <th>4</th>\n      <td>Drug Offences</td>\n      <td>Drug Trafficking</td>\n      <td>Barking and Dagenham</td>\n      <td>7</td>\n      <td>1</td>\n      <td>6</td>\n      <td>7</td>\n      <td>5</td>\n      <td>6</td>\n      <td>4</td>\n      <td>...</td>\n      <td>9</td>\n      <td>6</td>\n      <td>7</td>\n      <td>2</td>\n      <td>5</td>\n      <td>1</td>\n      <td>6</td>\n      <td>4</td>\n      <td>8</td>\n      <td>6</td>\n    </tr>\n  </tbody>\n</table>\n<p>5 rows \u00d7 27 columns</p>\n</div>", 
                        "text/plain": "                   MajorText                          MinorText  \\\n0  Arson and Criminal Damage                              Arson   \n1  Arson and Criminal Damage                    Criminal Damage   \n2                   Burglary  Burglary - Business and Community   \n3                   Burglary             Burglary - Residential   \n4              Drug Offences                   Drug Trafficking   \n\n     LookUp_BoroughName  201707  201708  201709  201710  201711  201712  \\\n0  Barking and Dagenham       2       5       8       7       7       4   \n1  Barking and Dagenham     143     169     134     132     108     119   \n2  Barking and Dagenham      42      30      25      23      27      21   \n3  Barking and Dagenham      95      83      81     122      88     124   \n4  Barking and Dagenham       7       1       6       7       5       6   \n\n   201801  ...  201809  201810  201811  201812  201901  201902  201903  \\\n0       2  ...       3       8       5       1       5       2       5   \n1     135  ...     107     131     105      88      97     127     137   \n2      38  ...      33      32      39      33      44      24      29   \n3     143  ...      99      94     106     164     114     107      99   \n4       4  ...       9       6       7       2       5       1       6   \n\n   201904  201905  201906  \n0       5      11       3  \n1     130     139     108  \n2      27      22      27  \n3      96     114      96  \n4       4       8       6  \n\n[5 rows x 27 columns]"
                    }, 
                    "execution_count": 1, 
                    "metadata": {}
                }
            ], 
            "execution_count": 1
        }, 
        {
            "source": "# Dimension of Data\ncrime.shape", 
            "cell_type": "code", 
            "metadata": {}, 
            "outputs": [
                {
                    "output_type": "execute_result", 
                    "data": {
                        "text/plain": "(1584, 27)"
                    }, 
                    "execution_count": 2, 
                    "metadata": {}
                }
            ], 
            "execution_count": 2
        }, 
        {
            "source": "# Names of Boroughs\ncrime['BoroughName'].unique()", 
            "cell_type": "code", 
            "metadata": {}, 
            "outputs": [], 
            "execution_count": null
        }, 
        {
            "source": "# Create a column for sum of incidents in 24 months\ncrime['Sum'] = crime.iloc[:,3:27].sum(axis=1)\ncrimesum = crime['Sum']\ncrime.drop(labels=['Sum'], axis=1,inplace = True)\ncrime.insert(3, 'Sum', crimesum)\ncrime.head()", 
            "cell_type": "code", 
            "metadata": {}, 
            "outputs": [], 
            "execution_count": null
        }, 
        {
            "source": "# Delete unnecessary columns\ncrime.drop(crime.columns[0:2], axis=1, inplace=True)\ncrime.drop(crime.columns[2:26], axis=1, inplace=True)\ncrime.head()", 
            "cell_type": "code", 
            "metadata": {}, 
            "outputs": [], 
            "execution_count": null
        }, 
        {
            "source": "# Calculate sum of incidents in the last 24 months by boroughs\ncrime = crime.groupby(['BoroughName'], as_index=False).sum()\ncrime.head()", 
            "cell_type": "code", 
            "metadata": {}, 
            "outputs": [], 
            "execution_count": null
        }, 
        {
            "source": "# Change the sum into monthly average\ncrime['Sum'] = crime['Sum']/24\ncrime.rename(columns={crime.columns[1]:'MonthlyAverage'}, inplace=True)\ncrime.head()", 
            "cell_type": "code", 
            "metadata": {}, 
            "outputs": [], 
            "execution_count": null
        }, 
        {
            "source": "# Explore the clean dataset - borough with most incidents?\ncrime.sort_values(by='MonthlyAverage', ascending=False).head()", 
            "cell_type": "code", 
            "metadata": {}, 
            "outputs": [], 
            "execution_count": null
        }, 
        {
            "source": "### Explore the clean dataset - borough with least incidents?\ncrime.sort_values(by='MonthlyAverage', ascending=True).head()", 
            "cell_type": "code", 
            "metadata": {}, 
            "outputs": [], 
            "execution_count": null
        }, 
        {
            "source": "### b. List of London Boroughs\n\n* Information on boroughs and their population & coordinates\n-Population can be used to calcuate the ratio of reported crime to population for better comparison.\n-Coordinates can be used to get neighborhood data from Foursquare.\n* source: Wikipedia\n* url: https://en.wikipedia.org/wiki/List_of_London_boroughs", 
            "cell_type": "markdown", 
            "metadata": {}
        }, 
        {
            "source": "import requests\nimport lxml\nfrom bs4 import BeautifulSoup\n\n# Obtaining data from Wikipedia\nsource = requests.get('https://en.wikipedia.org/wiki/List_of_London_boroughs').text\nsoup = BeautifulSoup(source, 'lxml')\nsoup.encode(\"utf-8-sig\")", 
            "cell_type": "code", 
            "metadata": {}, 
            "outputs": [], 
            "execution_count": null
        }, 
        {
            "source": "BoroughName = []\nPopulation = []\nCoordinates = []\n\nfor row in soup.find('table').find_all('tr'):\n    cells = row.find_all('td')\n    if len(cells) > 0:\n        BoroughName.append(cells[0].text.rstrip('\\n'))\n        Population.append(cells[7].text.rstrip('\\n'))\n        Coordinates.append(cells[8].text.rstrip('\\n'))\n\n# Form a dataframe\ndict = {'BoroughName' : BoroughName,\n       'Population' : Population,\n       'Coordinates': Coordinates}\ninfo = pd.DataFrame.from_dict(dict)\ninfo.head()", 
            "cell_type": "code", 
            "metadata": {}, 
            "outputs": [], 
            "execution_count": null
        }, 
        {
            "source": "# Strip unwanted texts\ninfo['BoroughName'] = info['BoroughName'].map(lambda x: x.rstrip(']'))\ninfo['BoroughName'] = info['BoroughName'].map(lambda x: x.rstrip('1234567890.'))\ninfo['BoroughName'] = info['BoroughName'].str.replace('note','')\ninfo['BoroughName'] = info['BoroughName'].map(lambda x: x.rstrip(' ['))\ninfo.head()", 
            "cell_type": "code", 
            "metadata": {}, 
            "outputs": [], 
            "execution_count": null
        }, 
        {
            "source": "# Clean coordinates\ninfo[['Coordinates1','Coordinates2','Coordinates3']] = info['Coordinates'].str.split('/',expand=True)\ninfo.head()", 
            "cell_type": "code", 
            "metadata": {}, 
            "outputs": [], 
            "execution_count": null
        }, 
        {
            "source": "info.drop(labels=['Coordinates','Coordinates1','Coordinates2'], axis=1,inplace = True)\ninfo[['Latitude','Longitude']] = info['Coordinates3'].str.split(';',expand=True)\ninfo.head()", 
            "cell_type": "code", 
            "metadata": {}, 
            "outputs": [], 
            "execution_count": null
        }, 
        {
            "source": "info.drop(labels=['Coordinates3'], axis=1,inplace = True)\ninfo['Latitude'] = info['Latitude'].map(lambda x: x.rstrip(u'\\ufeff'))\ninfo['Latitude'] = info['Latitude'].map(lambda x: x.lstrip())\ninfo['Longitude'] = info['Longitude'].map(lambda x: x.rstrip(')'))\ninfo['Longitude'] = info['Longitude'].map(lambda x: x.rstrip('abcdefghijklmnopqrstuvwxyzABCDEFGHIJKLMNOPQRSTUVWXYZ '))\ninfo['Longitude'] = info['Longitude'].map(lambda x: x.rstrip(' ('))\ninfo['Longitude'] = info['Longitude'].map(lambda x: x.rstrip(u'\\ufeff'))\ninfo['Longitude'] = info['Longitude'].map(lambda x: x.lstrip())\ninfo['Population'] = info['Population'].str.replace(',','')\ninfo.head()", 
            "cell_type": "code", 
            "metadata": {}, 
            "outputs": [], 
            "execution_count": null
        }, 
        {
            "source": "info['BoroughName'].unique()\n", 
            "cell_type": "code", 
            "metadata": {}, 
            "outputs": [], 
            "execution_count": null
        }, 
        {
            "source": "### c. Foursquare API\n\n* List of top 50 popular places in the neighborhood\n* source: Foursquare\n* url: https://api.foursquare.com", 
            "cell_type": "markdown", 
            "metadata": {}
        }, 
        {
            "source": "# Foursquare credentials\n", 
            "cell_type": "code", 
            "metadata": {}, 
            "outputs": [], 
            "execution_count": null
        }, 
        {
            "source": "#Create a function to explore all borough\ndef getNearbyVenues(names, latitudes, longitudes, radius=500):\n    \n    venues_list=[]\n    for name, lat, lng in zip(names, latitudes, longitudes):\n        print(name)\n            \n        # create the API request URL\n        url = 'https://api.foursquare.com/v2/venues/explore?&client_id={}&client_secret={}&v={}&ll={},{}&radius={}&limit={}'.format(\n            CLIENT_ID, \n            CLIENT_SECRET, \n            VERSION, \n            lat, \n            lng, \n            radius, \n            LIMIT)\n            \n        # make the GET request\n        results = requests.get(url).json()[\"response\"]['groups'][0]['items']\n        \n        # return only relevant information for each nearby venue\n        venues_list.append([(\n            name, \n            lat, \n            lng, \n            v['venue']['name'], \n            v['venue']['location']['lat'], \n            v['venue']['location']['lng'],  \n            v['venue']['categories'][0]['name']) for v in results])\n\n    nearby_venues = pd.DataFrame([item for venue_list in venues_list for item in venue_list])\n    nearby_venues.columns = ['BoroughName', \n                  'Borough Latitude', \n                  'Borough Longitude', \n                  'Venue', \n                  'Venue Latitude', \n                  'Venue Longitude', \n                  'Venue Category']\n    \n    return(nearby_venues)\nIn [107]:\n#Get top 50 venues in 500m radius of the center of each Borough\nLIMIT = 50\nvenues = getNearbyVenues(names=info['BoroughName'],\n                                   latitudes=info['Latitude'],\n                                   longitudes=info['Longitude']\n                                  )", 
            "cell_type": "code", 
            "metadata": {}, 
            "outputs": [], 
            "execution_count": null
        }, 
        {
            "source": "print(venues.shape)\nvenues.head()", 
            "cell_type": "code", 
            "metadata": {}, 
            "outputs": [], 
            "execution_count": null
        }, 
        {
            "source": "3. Methodology\nIn this section, we will explore the cleansed data more thoroughly using visualizations. Then, we will conduct cluster analysis to classify the boroughs into different levels of preference.\n\na. Exploratory Analysis", 
            "cell_type": "markdown", 
            "metadata": {}
        }, 
        {
            "source": "#Review our data\ncrime.head()", 
            "cell_type": "code", 
            "metadata": {}, 
            "outputs": [], 
            "execution_count": null
        }, 
        {
            "source": "info.head()\n", 
            "cell_type": "code", 
            "metadata": {}, 
            "outputs": [], 
            "execution_count": null
        }, 
        {
            "source": "venues.head()\n", 
            "cell_type": "code", 
            "metadata": {}, 
            "outputs": [], 
            "execution_count": null
        }, 
        {
            "source": "import matplotlib.pyplot as plt\nIn [113]:\n#Visualize crime data\ncrime.set_index('BoroughName')['MonthlyAverage'].sort_values().plot(kind='barh', grid=True, figsize=(10,10))\nplt.xlabel('Monthly Average of Crime Incidents')\nplt.title('Monthly Crime Incidents in London')\nplt.show()", 
            "cell_type": "code", 
            "metadata": {}, 
            "outputs": [], 
            "execution_count": null
        }, 
        {
            "source": "Westminster has the biggest number of reported crime, followed by Camden, Newham and Southwark.\n\n", 
            "cell_type": "markdown", 
            "metadata": {}
        }, 
        {
            "source": "Drop Heathrow Airport as it is not a residential area & not included in population data\ncrime.drop([22], inplace=True)\nIn [115]:\n#Combine crime data and borough information data\ndf = pd.merge(crime,info, how='outer', on='BoroughName')\ndf.head()", 
            "cell_type": "code", 
            "metadata": {}, 
            "outputs": [], 
            "execution_count": null
        }, 
        {
            "source": "#Check data type\ndf.dtypes", 
            "cell_type": "code", 
            "metadata": {}, 
            "outputs": [], 
            "execution_count": null
        }, 
        {
            "source": "df['Population'] = pd.to_numeric(df['Population'])\ndf['Latitude'] = pd.to_numeric(df['Latitude'])\ndf['Longitude'] = pd.to_numeric(df['Longitude'])\ndf.dtypes", 
            "cell_type": "code", 
            "metadata": {}, 
            "outputs": [], 
            "execution_count": null
        }, 
        {
            "source": "df.shape\n", 
            "cell_type": "code", 
            "metadata": {}, 
            "outputs": [], 
            "execution_count": null
        }, 
        {
            "source": "#Create a column that shows the number of crimes per 1000 people per month\ndf['Population'].astype(float)\ndf['CrimeToPop'] = df['MonthlyAverage'] / df['Population'] * 1000\ndf.head()", 
            "cell_type": "code", 
            "metadata": {}, 
            "outputs": [], 
            "execution_count": null
        }, 
        {
            "source": "#Visualize crime per 1000 people\ndf.set_index('BoroughName')['CrimeToPop'].sort_values().plot(kind='barh', grid=True, figsize=(10,10))\nplt.xlabel('Monthly Incidents per 1000 People')\nplt.title('Crime to Population Ratio of London')\nplt.show()", 
            "cell_type": "code", 
            "metadata": {}, 
            "outputs": [], 
            "execution_count": null
        }, 
        {
            "source": "import folium\nfrom geopy.geocoders import Nominatim\nIn [2]:\n#Get coordinates of London\naddress = 'London, UK'\n\ngeolocator = Nominatim(user_agent=\"explorer\")\nlocation = geolocator.geocode(address)\nlatitude = location.latitude\nlongitude = location.longitude\nprint('The geograpical coordinate of Toronto are {}, {}.'.format(latitude, longitude))", 
            "cell_type": "code", 
            "metadata": {}, 
            "outputs": [], 
            "execution_count": null
        }, 
        {
            "source": "# make a map of London using folium\nmap = folium.Map(location=[latitude, longitude], zoom_start=11)\n\n# add markers to map\nfor lat, lng, borough in zip(df['Latitude'], df['Longitude'], df['BoroughName']):\n    label = '{}'.format(borough)\n    label2 = folium.Popup(label, parse_html=True)\n    folium.CircleMarker(\n        [lat, lng],\n        radius=5,\n        popup=label2,\n        color='blue',\n        fill=True,\n        fill_color='#3186cc',\n        fill_opacity=0.7,\n        parse_html=False).add_to(map)  \n    \nmap", 
            "cell_type": "code", 
            "metadata": {}, 
            "outputs": [], 
            "execution_count": null
        }, 
        {
            "source": "We can see that Westminster and Camden still remains top 2 dangerous area even after taking population into consideration.\n\nb. Cluster Analysis\nIn this part, we will conduct K-means clustering to group the boroughs according to what convenience facilities they have using Foursquare data", 
            "cell_type": "code", 
            "metadata": {}, 
            "outputs": [], 
            "execution_count": null
        }, 
        {
            "source": "print('There are {} uniques categories.'.format(len(venues['Venue Category'].unique())))\n", 
            "cell_type": "code", 
            "metadata": {}, 
            "outputs": [], 
            "execution_count": null
        }, 
        {
            "source": "# One hot encoding before clustering\nonehot = pd.get_dummies(venues[['Venue Category']], prefix=\"\", prefix_sep=\"\")\nIn [126]:\n# Add borough name back to dataframe\nborough = venues['BoroughName']\nonehot.insert(0, 'BoroughName', borough)\nonehot.head()", 
            "cell_type": "code", 
            "metadata": {}, 
            "outputs": [], 
            "execution_count": null
        }, 
        {
            "source": "onehot.shape\n", 
            "cell_type": "code", 
            "metadata": {}, 
            "outputs": [], 
            "execution_count": null
        }, 
        {
            "source": "# Group rows by borough and take the mean of frequency of each venue category\ngrouped = onehot.groupby('BoroughName').mean().reset_index()\ngrouped", 
            "cell_type": "code", 
            "metadata": {}, 
            "outputs": [], 
            "execution_count": null
        }, 
        {
            "source": "# top 5 venues for each neighborhood\nnum_top_venues = 5\n\nfor hood in grouped['BoroughName']:\n    print(\"----\"+hood+\"----\")\n    temp = grouped[grouped['BoroughName'] == hood].T.reset_index()\n    temp.columns = ['venue','freq']\n    temp = temp.iloc[1:]\n    temp['freq'] = temp['freq'].astype(float)\n    temp = temp.round({'freq': 2})\n    print(temp.sort_values('freq', ascending=False).reset_index(drop=True).head(num_top_venues))\n    print('\\n')", 
            "cell_type": "code", 
            "metadata": {}, 
            "outputs": [], 
            "execution_count": null
        }, 
        {
            "source": "# Put into pandas dataframe\ndef return_most_common_venues(row, num_top_venues):\n    row_categories = row.iloc[1:]\n    row_categories_sorted = row_categories.sort_values(ascending=False)\n    \n    return row_categories_sorted.index.values[0:num_top_venues]\n\nnum_top_venues = 10\n\nindicators = ['st', 'nd', 'rd']\n\n# create columns according to number of top venues\ncolumns = ['BoroughName']\nfor ind in np.arange(num_top_venues):\n    try:\n        columns.append('{}{} Most Common Venue'.format(ind+1, indicators[ind]))\n    except:\n        columns.append('{}th Most Common Venue'.format(ind+1))\n\n# create a new dataframe\nvenues_sorted = pd.DataFrame(columns=columns)\nvenues_sorted['BoroughName'] = grouped['BoroughName']\n\nfor ind in np.arange(grouped.shape[0]):\n    venues_sorted.iloc[ind, 1:] = return_most_common_venues(grouped.iloc[ind, :], num_top_venues)\n\nvenues_sorted.head()", 
            "cell_type": "code", 
            "metadata": {}, 
            "outputs": [], 
            "execution_count": null
        }, 
        {
            "source": "# K Means Clustering\nfrom sklearn.cluster import KMeans\nimport matplotlib.cm as cm\nimport matplotlib.colors as colors\nIn [132]:\nkclusters = 5\nlondon_cluster = grouped.drop('BoroughName', 1)\nkmeans = KMeans(n_clusters=kclusters, random_state=0).fit(london_cluster)\n\nkmeans.labels_[0:10]", 
            "cell_type": "code", 
            "metadata": {}, 
            "outputs": [], 
            "execution_count": null
        }, 
        {
            "source": "# add clustering labels\nvenues_sorted.insert(0, 'Cluster Labels', kmeans.labels_)\n\n# merge toronto_grouped with toronto coords to add latitude/longitude for each neighborhood\nlondon_merged = df\nlondon_merged = london_merged.join(venues_sorted.set_index('BoroughName'), on='BoroughName')\n\nlondon_merged.head()", 
            "cell_type": "code", 
            "metadata": {}, 
            "outputs": [], 
            "execution_count": null
        }, 
        {
            "source": "# create map\nmap_clusters = folium.Map(location=[latitude, longitude], zoom_start=11)\n\n# set color scheme for the clusters\nx = np.arange(kclusters)\nys = [i + x + (i*x)**2 for i in range(kclusters)]\ncolors_array = cm.rainbow(np.linspace(0, 1, len(ys)))\nrainbow = [colors.rgb2hex(i) for i in colors_array]\n\n# add markers to the map\nmarkers_colors = []\nfor lat, lon, poi, cluster in zip(london_merged['Latitude'], london_merged['Longitude'], london_merged['BoroughName'], london_merged['Cluster Labels']):\n    label = folium.Popup(str(poi) + ' Cluster ' + str(cluster), parse_html=True)\n    folium.CircleMarker(\n        [lat, lon],\n        radius=5,\n        popup=label,\n        color=rainbow[cluster-1],\n        fill=True,\n        fill_color=rainbow[cluster-1],\n        fill_opacity=0.7).add_to(map_clusters)\n       \nmap_clusters", 
            "cell_type": "code", 
            "metadata": {}, 
            "outputs": [], 
            "execution_count": null
        }, 
        {
            "source": "Now let's observe each clusters and name them according to their characteristics\n\n", 
            "cell_type": "markdown", 
            "metadata": {}
        }, 
        {
            "source": "# Cluster 0: Healthy area\nlondon_merged.loc[london_merged['Cluster Labels'] == 0, london_merged.columns[[0] + list(range(5, london_merged.shape[1]))]]", 
            "cell_type": "code", 
            "metadata": {}, 
            "outputs": [], 
            "execution_count": null
        }, 
        {
            "source": "# Cluster 1: Lively area (Pubs, Restaurants)\nlondon_merged.loc[london_merged['Cluster Labels'] == 1, london_merged.columns[[0] + list(range(5, london_merged.shape[1]))]]", 
            "cell_type": "code", 
            "metadata": {}, 
            "outputs": [], 
            "execution_count": null
        }, 
        {
            "source": "# Cluster 2: Busy area (Coffee shops, Clothing stores)\nlondon_merged.loc[london_merged['Cluster Labels'] == 2, london_merged.columns[[0] + list(range(5, london_merged.shape[1]))]]", 
            "cell_type": "code", 
            "metadata": {}, 
            "outputs": [], 
            "execution_count": null
        }, 
        {
            "source": "# Cluster 3: Quiet area\nlondon_merged.loc[london_merged['Cluster Labels'] == 3, london_merged.columns[[0] + list(range(5, london_merged.shape[1]))]]", 
            "cell_type": "code", 
            "metadata": {}, 
            "outputs": [], 
            "execution_count": null
        }, 
        {
            "source": "# Cluster 4: Traveller area\nlondon_merged.loc[london_merged['Cluster Labels'] == 4, london_merged.columns[[0] + list(range(5, london_merged.shape[1]))]]", 
            "cell_type": "code", 
            "metadata": {}, 
            "outputs": [], 
            "execution_count": null
        }, 
        {
            "source": "4. Results & Recommendation\nNow we will review all the analysis made in this project before we make a conclusion on which area to live as an international student or invest as a student accommodation builder.\n\nLike mentioned in the beginning, our key criteria of location decision will be based on safety and atmosphere.\n\na. Safety\nSafety can be determined by the criminal rate we have calculated. We can use the 'CrimeToPop' (Recorded crime per 1000 people) as our safety score.", 
            "cell_type": "code", 
            "metadata": {}, 
            "outputs": [], 
            "execution_count": null
        }, 
        {
            "source": "crimetopop = london_merged['CrimeToPop']\nlondon_merged.drop(['CrimeToPop'], inplace=True, axis=1)\nlondon_merged.insert(1, 'CrimeToPop', crimetopop)\nlondon_merged.sort_values(by='CrimeToPop', ascending = False)", 
            "cell_type": "code", 
            "metadata": {}, 
            "outputs": [], 
            "execution_count": null
        }, 
        {
            "source": "b. Atmosphere\nAnd from the cluster analysis made above, we will give each clusters a name according to the characteristics inferrable from the popular venues.\n\nAccording to my interpretation, Cluster 0 is 'Healthy Area' with gyms, parks, pools and golf courses as popular places.", 
            "cell_type": "code", 
            "metadata": {}, 
            "outputs": [], 
            "execution_count": null
        }, 
        {
            "source": "london_merged.loc[london_merged['Cluster Labels'] == 0].BoroughName.unique()\n", 
            "cell_type": "code", 
            "metadata": {}, 
            "outputs": [], 
            "execution_count": null
        }, 
        {
            "source": "According to my interpretation, Cluster 1 is 'Lively Area' with many pubs and restaurants.\n\n", 
            "cell_type": "code", 
            "metadata": {}, 
            "outputs": [], 
            "execution_count": null
        }, 
        {
            "source": "london_merged.loc[london_merged['Cluster Labels'] == 1].BoroughName.unique()\n", 
            "cell_type": "code", 
            "metadata": {}, 
            "outputs": [], 
            "execution_count": null
        }, 
        {
            "source": "According to my interpretation, Cluster 2 is 'Busy Area' with many coffee shops and clothing stores.\n\n", 
            "cell_type": "code", 
            "metadata": {}, 
            "outputs": [], 
            "execution_count": null
        }, 
        {
            "source": "london_merged.loc[london_merged['Cluster Labels'] == 2].BoroughName.unique()\n", 
            "cell_type": "code", 
            "metadata": {}, 
            "outputs": [], 
            "execution_count": null
        }, 
        {
            "source": "According to my interpretation, Cluster 3 is 'Quiet Area' with cafe, bus stop, and yoga studio as top venues.\n\n", 
            "cell_type": "code", 
            "metadata": {}, 
            "outputs": [], 
            "execution_count": null
        }, 
        {
            "source": "london_merged.loc[london_merged['Cluster Labels'] == 3].BoroughName.unique()\n", 
            "cell_type": "code", 
            "metadata": {}, 
            "outputs": [], 
            "execution_count": null
        }, 
        {
            "source": "According to my interpretation, Cluster 4 is 'Traveller Area' with bed & breakfast, hotels, and airport.\n\n", 
            "cell_type": "code", 
            "metadata": {}, 
            "outputs": [], 
            "execution_count": null
        }, 
        {
            "source": "london_merged.loc[london_merged['Cluster Labels'] == 4].BoroughName.unique()\n", 
            "cell_type": "code", 
            "metadata": {}, 
            "outputs": [], 
            "execution_count": null
        }, 
        {
            "source": "Now, what kind of atmosphere students may prefer differ by every student. So using my personal preferance as a student moving to London and some common sense, I will give scores to each clusters.\nI have decided to give preference in the order of Busy Area, Lively Area, Healthy Area, Quiet Area, and Traveller Area.\n\nc. Weighted score table\nFinally, let's calculate the scores of each borough.", 
            "cell_type": "code", 
            "metadata": {}, 
            "outputs": [], 
            "execution_count": null
        }, 
        {
            "source": "score = london_merged[['BoroughName','CrimeToPop','Cluster Labels']].copy()\nscore.head()", 
            "cell_type": "code", 
            "metadata": {}, 
            "outputs": [], 
            "execution_count": null
        }, 
        {
            "source": "score['Safety'] = (score['CrimeToPop']-score['CrimeToPop'].min())/(score['CrimeToPop'].max()-score['CrimeToPop'].min())\nscore['Safety'] = (score['Safety'] - 1) * -1\nscore.head()", 
            "cell_type": "code", 
            "metadata": {}, 
            "outputs": [], 
            "execution_count": null
        }, 
        {
            "source": "score['Atmosphere'] = 0\nscore.head()", 
            "cell_type": "code", 
            "metadata": {}, 
            "outputs": [], 
            "execution_count": null
        }, 
        {
            "source": "for i in range(32):\n    if score.iloc[i,2] == 2:\n        score.iloc[i,4] = 1\n    elif score.iloc[i,2] == 1:\n        score.iloc[i,4] = 0.9\n    elif score.iloc[i,2] == 0:\n        score.iloc[i,2] = 0.8\n    elif score.iloc[i,2] == 3:\n        score.iloc[i,4] = 0.7\n    else:\n        score.iloc[i,2] = 0.6\n                \nscore.head()", 
            "cell_type": "code", 
            "metadata": {}, 
            "outputs": [], 
            "execution_count": null
        }, 
        {
            "source": "score.drop(['CrimeToPop'], inplace=True, axis=1)\nscore.drop(['Cluster Labels'], inplace=True, axis=1)\nscore['Score'] = score['Safety'] + score['Atmosphere']\nscore.sort_values(by='Score', ascending = False)", 
            "cell_type": "code", 
            "metadata": {}, 
            "outputs": [], 
            "execution_count": null
        }, 
        {
            "source": "", 
            "cell_type": "code", 
            "metadata": {}, 
            "outputs": [], 
            "execution_count": null
        }, 
        {
            "source": "", 
            "cell_type": "code", 
            "metadata": {}, 
            "outputs": [], 
            "execution_count": null
        }, 
        {
            "source": "", 
            "cell_type": "code", 
            "metadata": {}, 
            "outputs": [], 
            "execution_count": null
        }
    ], 
    "metadata": {
        "kernelspec": {
            "display_name": "Python 3.6", 
            "name": "python3", 
            "language": "python"
        }, 
        "language_info": {
            "mimetype": "text/x-python", 
            "nbconvert_exporter": "python", 
            "version": "3.6.8", 
            "name": "python", 
            "pygments_lexer": "ipython3", 
            "file_extension": ".py", 
            "codemirror_mode": {
                "version": 3, 
                "name": "ipython"
            }
        }
    }, 
    "nbformat": 4
}